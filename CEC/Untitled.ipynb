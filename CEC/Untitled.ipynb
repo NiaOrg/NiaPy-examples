{
 "cells": [
  {
   "cell_type": "code",
   "execution_count": null,
   "metadata": {},
   "outputs": [],
   "source": [
    "from NiaPy.algorithms.algorithm import Algorithm\n",
    "from NiaPy.util.utility import objects2array\n",
    "\n",
    "class EvolutionStrategy1p1(Algorithm):\n",
    "   def setParameters(self, mu=1, k=10, c_a=1.1, c_r=0.5, epsilon=1e-20, **ukwargs):\n",
    "      Algorithm.setParameters(self, NP=mu, itype=ukwargs.pop('itype', IndividualES), **ukwargs)\n",
    "   \n",
    "   def initPopulation(self, task):\n",
    "      c, ki = IndividualES(task=task, rnd=self.Rand), 0\n",
    "      return c, c.f, {'ki': ki}\n",
    "\n",
    "   def runIteration(self, task, c, fpop, xb, fxb, ki, **dparams):\n",
    "      return c, c.f, {'ki': ki}"
   ]
  }
 ],
 "metadata": {
  "kernelspec": {
   "display_name": "Python 3",
   "language": "python",
   "name": "python3"
  },
  "language_info": {
   "codemirror_mode": {
    "name": "ipython",
    "version": 3
   },
   "file_extension": ".py",
   "mimetype": "text/x-python",
   "name": "python",
   "nbconvert_exporter": "python",
   "pygments_lexer": "ipython3",
   "version": "3.7.4"
  }
 },
 "nbformat": 4,
 "nbformat_minor": 4
}
