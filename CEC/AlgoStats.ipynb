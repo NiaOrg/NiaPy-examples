{
 "cells": [
  {
   "cell_type": "code",
   "execution_count": 1,
   "metadata": {},
   "outputs": [],
   "source": [
    "import sys\n",
    "import time\n",
    "\n",
    "from IPython.display import display\n",
    "\n",
    "import numpy as np\n",
    "import pandas as pd\n",
    "import matplotlib.pyplot as plt\n",
    "\n",
    "# Test the type of distribution of data for any distribution\n",
    "from scipy.stats import kstest\n",
    "# Test for the Heteroscedasticity\n",
    "from scipy.stats import levene\n",
    "# Test with nonparametric test for comparing of two\n",
    "from scipy.stats import wilcoxon\n",
    "# Test with nonparametric test for comparing of three or more\n",
    "from scipy.stats import friedmanchisquare\n",
    "# probability plot\n",
    "from scipy.stats import probplot\n",
    "\n",
    "np.set_printoptions(linewidth=100000000, formatter={'all': lambda x: str(x)})\n",
    "%matplotlib notebook"
   ]
  },
  {
   "cell_type": "code",
   "execution_count": 2,
   "metadata": {},
   "outputs": [],
   "source": [
    "dims, algosNames, alpha = [10, 30, 50], ['BA', 'ABA', 'SABA', 'HBA', 'HSABA'], 0.05"
   ]
  },
  {
   "cell_type": "markdown",
   "metadata": {},
   "source": [
    "# CEC 2017 algorithm speed test\n",
    "Example of time execution speed of algorithm"
   ]
  },
  {
   "cell_type": "code",
   "execution_count": 3,
   "metadata": {},
   "outputs": [],
   "source": [
    "sys.path.append('cec2017')\n",
    "from cec2017 import run_fun\n",
    "from run_cec import MinMB\n",
    "\n",
    "from NiaPy.algorithms import AlgorithmUtility\n",
    "from NiaPy.task import StoppingTask, Utility\n",
    "from NiaPy.util import reflectRepair\n",
    "from NiaPy.algorithms.basic import BatAlgorithm\n",
    "from NiaPy.algorithms.modified import HybridBatAlgorithm, AdaptiveBatAlgorithm, SelfAdaptiveBatAlgorithm, HybridSelfAdaptiveBatAlgorithm\n",
    "\n",
    "def testOne(x=0.55):\n",
    "   for i in range(10 ** 6): \n",
    "      x = x + x\n",
    "      x = x / 2\n",
    "      x = x * x\n",
    "      x = np.sqrt(x)\n",
    "      x = np.log(x)\n",
    "      x = np.exp(x)\n",
    "      x = x / (x + 2)\n",
    "\n",
    "def testTwo(d):\n",
    "   for i in range(2 * 10 ** 5): \n",
    "      x = np.random.uniform(-100, 100, d)\n",
    "      run_fun(x, 18)\n",
    "\n",
    "def testThreeCec(a, d, fnum=1):\n",
    "#    autil = AlgorithmUtility()\n",
    "   task = StoppingTask(D=d, nFES=d * 1e4, benchmark=MinMB(run_fun, fnum=fnum))\n",
    "#    algo = autil.get_algorithm(a)()\n",
    "   start_time = time.time()\n",
    "#    best = algo.run(task)\n",
    "   best = a.run(task)\n",
    "   return time.time() - start_time, best\n",
    "\n",
    "def testThreeBasic(a, d, fnum=1, seed=1):\n",
    "   mapper = {\n",
    "      1:'bentcigar',\n",
    "      2:'',\n",
    "      3:'zakharov',\n",
    "      4:'rosenbrock',\n",
    "      5:'rastrigin',\n",
    "      6:'',\n",
    "      10:'swefel'\n",
    "   }\n",
    "   task = StoppingTask(D=d, nFES=d * 1e4, benchmark=mapper[fnum], frepair=reflectRepair)\n",
    "#    algo = autil.get_algorithm(a)(seed=seed)\n",
    "   start_time = time.time()\n",
    "#    best = algo.run(task)\n",
    "   best = a.run(task)\n",
    "   return time.time() - start_time, best\n",
    "\n",
    "seed = 1\n",
    "algs = [BatAlgorithm(seed=seed), HybridBatAlgorithm(seed=seed), SelfAdaptiveBatAlgorithm(seed=seed), HybridSelfAdaptiveBatAlgorithm(seed=seed, NP=100, A=0.5, F=0.5, CR=0.9, r=0.2)]"
   ]
  },
  {
   "cell_type": "markdown",
   "metadata": {},
   "source": [
    "## Test one"
   ]
  },
  {
   "cell_type": "code",
   "execution_count": null,
   "metadata": {},
   "outputs": [],
   "source": [
    "start_time = time.time()\n",
    "testOne()\n",
    "t0 = (time.time() - start_time)\n",
    "print(t0)"
   ]
  },
  {
   "cell_type": "markdown",
   "metadata": {},
   "source": [
    "## Test two"
   ]
  },
  {
   "cell_type": "code",
   "execution_count": null,
   "metadata": {},
   "outputs": [],
   "source": [
    "t1 = []\n",
    "for d in dims:\n",
    "   start_time = time.time()\n",
    "   testTwo(d)\n",
    "   t1.append(time.time() - start_time)\n",
    "print(t1)"
   ]
  },
  {
   "cell_type": "markdown",
   "metadata": {},
   "source": [
    "## Test three"
   ]
  },
  {
   "cell_type": "code",
   "execution_count": 4,
   "metadata": {},
   "outputs": [],
   "source": [
    "d = 10"
   ]
  },
  {
   "cell_type": "code",
   "execution_count": 5,
   "metadata": {},
   "outputs": [
    {
     "data": {
      "text/plain": [
       "'Func 1'"
      ]
     },
     "metadata": {},
     "output_type": "display_data"
    },
    {
     "data": {
      "text/html": [
       "<div>\n",
       "<style scoped>\n",
       "    .dataframe tbody tr th:only-of-type {\n",
       "        vertical-align: middle;\n",
       "    }\n",
       "\n",
       "    .dataframe tbody tr th {\n",
       "        vertical-align: top;\n",
       "    }\n",
       "\n",
       "    .dataframe thead th {\n",
       "        text-align: right;\n",
       "    }\n",
       "</style>\n",
       "<table border=\"1\" class=\"dataframe\">\n",
       "  <thead>\n",
       "    <tr style=\"text-align: right;\">\n",
       "      <th></th>\n",
       "      <th>BatAlgorithm</th>\n",
       "      <th>HybridBatAlgorithm</th>\n",
       "      <th>SelfAdaptiveBatAlgorithm</th>\n",
       "      <th>HybridSelfAdaptiveBatAlgorithm</th>\n",
       "    </tr>\n",
       "  </thead>\n",
       "  <tbody>\n",
       "    <tr>\n",
       "      <th>0</th>\n",
       "      <td>3.469749e+00</td>\n",
       "      <td>9.195651e+00</td>\n",
       "      <td>4.402900e+00</td>\n",
       "      <td>1.641585e+01</td>\n",
       "    </tr>\n",
       "    <tr>\n",
       "      <th>1</th>\n",
       "      <td>4.510521e+09</td>\n",
       "      <td>6.713112e-143</td>\n",
       "      <td>7.562695e+08</td>\n",
       "      <td>3.318759e+07</td>\n",
       "    </tr>\n",
       "  </tbody>\n",
       "</table>\n",
       "</div>"
      ],
      "text/plain": [
       "   BatAlgorithm  HybridBatAlgorithm  SelfAdaptiveBatAlgorithm  \\\n",
       "0  3.469749e+00        9.195651e+00              4.402900e+00   \n",
       "1  4.510521e+09       6.713112e-143              7.562695e+08   \n",
       "\n",
       "   HybridSelfAdaptiveBatAlgorithm  \n",
       "0                    1.641585e+01  \n",
       "1                    3.318759e+07  "
      ]
     },
     "metadata": {},
     "output_type": "display_data"
    }
   ],
   "source": [
    "res, f = {}, 1\n",
    "for a in algs:\n",
    "   r = testThreeBasic(a, d, f)\n",
    "   res[a.Name[0]] = [r[0], r[1][1]]\n",
    "display('Func %d' % f)\n",
    "display(pd.DataFrame.from_dict(res))"
   ]
  },
  {
   "cell_type": "code",
   "execution_count": null,
   "metadata": {
    "scrolled": true
   },
   "outputs": [
    {
     "data": {
      "text/plain": [
       "'Func 1'"
      ]
     },
     "metadata": {},
     "output_type": "display_data"
    },
    {
     "data": {
      "text/html": [
       "<div>\n",
       "<style scoped>\n",
       "    .dataframe tbody tr th:only-of-type {\n",
       "        vertical-align: middle;\n",
       "    }\n",
       "\n",
       "    .dataframe tbody tr th {\n",
       "        vertical-align: top;\n",
       "    }\n",
       "\n",
       "    .dataframe thead th {\n",
       "        text-align: right;\n",
       "    }\n",
       "</style>\n",
       "<table border=\"1\" class=\"dataframe\">\n",
       "  <thead>\n",
       "    <tr style=\"text-align: right;\">\n",
       "      <th></th>\n",
       "      <th>BatAlgorithm</th>\n",
       "      <th>HybridBatAlgorithm</th>\n",
       "      <th>SelfAdaptiveBatAlgorithm</th>\n",
       "      <th>HybridSelfAdaptiveBatAlgorithm</th>\n",
       "    </tr>\n",
       "  </thead>\n",
       "  <tbody>\n",
       "    <tr>\n",
       "      <th>0</th>\n",
       "      <td>3.108201e+00</td>\n",
       "      <td>8.868408</td>\n",
       "      <td>3.815225e+00</td>\n",
       "      <td>1.623562e+01</td>\n",
       "    </tr>\n",
       "    <tr>\n",
       "      <th>1</th>\n",
       "      <td>9.833626e+09</td>\n",
       "      <td>100.000000</td>\n",
       "      <td>9.774781e+09</td>\n",
       "      <td>3.032713e+07</td>\n",
       "    </tr>\n",
       "  </tbody>\n",
       "</table>\n",
       "</div>"
      ],
      "text/plain": [
       "   BatAlgorithm  HybridBatAlgorithm  SelfAdaptiveBatAlgorithm  \\\n",
       "0  3.108201e+00            8.868408              3.815225e+00   \n",
       "1  9.833626e+09          100.000000              9.774781e+09   \n",
       "\n",
       "   HybridSelfAdaptiveBatAlgorithm  \n",
       "0                    1.623562e+01  \n",
       "1                    3.032713e+07  "
      ]
     },
     "metadata": {},
     "output_type": "display_data"
    }
   ],
   "source": [
    "for f in [0, 3, 4, 5]:\n",
    "   res = {}\n",
    "   for a in algs:\n",
    "      r = testThreeCec(a, d, f + 1)\n",
    "      res[a.Name[0]] = [r[0], r[1][1]]\n",
    "   display('Func %d' % (f + 1))\n",
    "   display(pd.DataFrame.from_dict(res))"
   ]
  },
  {
   "cell_type": "code",
   "execution_count": null,
   "metadata": {
    "scrolled": true
   },
   "outputs": [],
   "source": [
    "for f in range(10, 20):\n",
    "   res = {}\n",
    "   for a in algs:\n",
    "      r = testThreeCec(a, d, f + 1)\n",
    "      res[a.Name[0]] = [r[0], r[1][1]]\n",
    "   display('Func %d' % (f + 1))\n",
    "   display(pd.DataFrame.from_dict(res))"
   ]
  },
  {
   "cell_type": "code",
   "execution_count": null,
   "metadata": {
    "scrolled": true
   },
   "outputs": [],
   "source": [
    "for f in range(20, 31):\n",
    "   res = {}\n",
    "   for a in algs:\n",
    "      r = testThreeCec(a, d, f + 1)\n",
    "      res[a.Name[0]] = [r[0], r[1][1]]\n",
    "   display('Func %d' % (f + 1))\n",
    "   display(pd.DataFrame.from_dict(res))"
   ]
  },
  {
   "cell_type": "markdown",
   "metadata": {},
   "source": [
    "# CEC 2017 statistic\n",
    "For getting the data need to perform statistic test we used: `for i in {1..30}; do python run_cec.py -c 17 -o T -rn 50 -a DE -D 10 -f $i -seed {1000..1050}; done`.\n",
    "The example shows how to run DE algorithm on all benchmark functions that have problem dimensionality set to 10.\n",
    "DE algorithm runs 50 times on each benchmark functions with seed in range from 1000 to 1050.\n",
    "Every algorithm run has it's own seed.\n",
    "We used `-o T` for generating the output.\n",
    "\n",
    "## Example of multiple runs on one problem\n",
    "* dim $\\in \\{10, 30, 50\\}$\n",
    "* fnum $\\in \\{1, \\cdots , 30\\}$\n",
    "* algos $\\in$ `{dynNpMsjDE, BBFWA, DE, jDE, SCA, ES(1+1), ES(m+1), ASO, BA, dynFWAG}`\n",
    "\n",
    "## Load data\n",
    "We will create a new variable `data`, that holds the optization results for 50 runs, 30 functions and specified algorithms.\n",
    "Now first index presents algorithm, second index presents function and third index presents the value of optimization."
   ]
  },
  {
   "cell_type": "code",
   "execution_count": null,
   "metadata": {
    "scrolled": true
   },
   "outputs": [],
   "source": [
    "dim, data = dims[0], []\n",
    "data = np.asanyarray([[np.loadtxt('data/%s_%d_%d_v' % (a, fnum, dim)) for fnum in range(1, 31)] for a in algos])\n",
    "# Get basic statistics\n",
    "vals = []\n",
    "for fnum in range(30):\n",
    "   tmp = []\n",
    "   print ('\\nfun_num: %d' % (fnum + 1))\n",
    "   for i, a in enumerate(algos):\n",
    "      d = data[i, fnum] = data[i, fnum] - (fnum + 1) * 100\n",
    "      print ('%10s:\\tmin: %.3E \\tmean: %.3E\\tstd: %.3E' % (a, np.min(d), np.mean(d), np.std(d)))\n",
    "      tmp.append((np.min(d), np.mean(d), np.std(d)))\n",
    "   vals.append(tmp)\n",
    "vals = np.asanyarray(vals)\n",
    "# Get best values for basic statistics\n",
    "imin, imean, istd = [], [], []\n",
    "for fnum in range(30):\n",
    "   imin.append(np.argmin([vals[fnum, i, 0] for i in range(len(algos))]))\n",
    "   imean.append(np.argmin([vals[fnum, i, 1] for i in range(len(algos))]))\n",
    "   istd.append(np.argmin([vals[fnum, i, 2] for i in range(len(algos))]))\n",
    "# Generate table entrys for latex\n",
    "out = ''\n",
    "for i in range(len(algos)):\n",
    "   for fnum in range(30): out += ('%.3E' if i != imin[fnum] else '\\\\textbf{%.3E}') % vals[fnum, i, 0] + ' & ' + ('%.3E' if i != imean[fnum] else '\\\\textbf{%.3E}') % vals[fnum, i, 1] + ' & ' + ('%.3E' if i != istd[fnum] else '\\\\textbf{%.3E}') % vals[fnum, i, 2] + ' \\\\\\\\ \\n'\n",
    "   out += '\\n'\n",
    "print ('\\n', out)"
   ]
  },
  {
   "cell_type": "markdown",
   "metadata": {},
   "source": [
    "## Normalize the data\n",
    "Now we transform the presentation of data in our new array called `ndata` that has normalized data.\n",
    "Now first index presents function, second index presents algorithm and third index presents the value of optimization."
   ]
  },
  {
   "cell_type": "code",
   "execution_count": null,
   "metadata": {},
   "outputs": [],
   "source": [
    "ndata = np.asanyarray([[(data[j, i] - np.min(data[j, i])) / (np.max(data[j, i]) - np.min(data[j, i])) for j in range(len(algos))] for i in range(30)])\n",
    "ndata[np.isnan(ndata)] = 0"
   ]
  },
  {
   "cell_type": "markdown",
   "metadata": {},
   "source": [
    "## Test for normal distribution\n",
    "[Kolmogorov–Smirnov](https://en.wikipedia.org/wiki/Kolmogorov%E2%80%93Smirnov_test) test: Tests whether a sample is drawn from a given distribution, or whether two samples are drawn from the same distribution.\n",
    "\n",
    "If $\\text{p-value} > \\alpha$ then values belong to selected distribution."
   ]
  },
  {
   "cell_type": "code",
   "execution_count": null,
   "metadata": {},
   "outputs": [],
   "source": [
    "for i, a in enumerate(algos):\n",
    "   tmp = ''\n",
    "   for j in range(30):\n",
    "      s = kstest(ndata[j, i], 'norm')\n",
    "      print('%10s on %2d.: %.3E %.3E' % (a, j + 1, s[0], s[1]))\n",
    "      tmp += '%.3E & ' % s[1]\n",
    "   print(tmp, '\\n')"
   ]
  },
  {
   "cell_type": "markdown",
   "metadata": {},
   "source": [
    "### Probability Plot for one algorithm"
   ]
  },
  {
   "cell_type": "code",
   "execution_count": null,
   "metadata": {},
   "outputs": [],
   "source": [
    "for i in range(30):\n",
    "   fig = plt.figure()\n",
    "   ax = fig.add_subplot(111)\n",
    "   probplot(ndata[i, 0], plot=ax)\n",
    "plt.show()"
   ]
  },
  {
   "cell_type": "markdown",
   "metadata": {},
   "source": [
    "## Test for Heteroscedasticity\n",
    "The Levene test tests the null hypothesis that all input samples are from populations with equal variances. Levene’s test is an alternative to Bartlett’s test bartlett in the case where there are significant deviations from normality."
   ]
  },
  {
   "cell_type": "code",
   "execution_count": null,
   "metadata": {},
   "outputs": [],
   "source": [
    "tmp = ''\n",
    "for j in range(30):\n",
    "   s = levene(*ndata[j, :], center='mean')\n",
    "   print('%2d.: %.3E %.3E' % (j + 1, s[0], s[1]))\n",
    "   tmp += '%.3E & ' % s[1]\n",
    "print(tmp)"
   ]
  },
  {
   "cell_type": "markdown",
   "metadata": {},
   "source": [
    "## Run Wilcoxon test\n",
    "[Wilcoxon signed-rank](https://en.wikipedia.org/wiki/Wilcoxon_signed-rank_test) test: tests whether matched pair samples are drawn from populations with different mean ranks"
   ]
  },
  {
   "cell_type": "code",
   "execution_count": null,
   "metadata": {},
   "outputs": [],
   "source": [
    "for j in range(30):\n",
    "   tmp = ''\n",
    "   print ('f%2d' % (j + 1))\n",
    "   for i, a in enumerate(algos):\n",
    "      s = wilcoxon(ndata[j, 0], ndata[j, i])\n",
    "      print ('%10s vs. %10s on %2d. fun: %.3E %.3E' % (algos[0], a, j, s[0], s[1]))\n",
    "      tmp += '%.3E & ' % s[1]\n",
    "   print (tmp, '\\n')"
   ]
  },
  {
   "cell_type": "markdown",
   "metadata": {},
   "source": [
    "## Run Friedman test\n",
    "[Friedman two-way analysis of variance by ranks](https://en.wikipedia.org/wiki/Friedman_test): tests whether k treatments in randomized block designs have identical effects"
   ]
  },
  {
   "cell_type": "code",
   "execution_count": null,
   "metadata": {},
   "outputs": [],
   "source": [
    "for j in range(30):\n",
    "   print (algos, ' on ', j + 1, ' fun: ', friedmanchisquare(*ndata[j, :]))"
   ]
  }
 ],
 "metadata": {
  "kernelspec": {
   "display_name": "Python 3",
   "language": "python",
   "name": "python3"
  },
  "language_info": {
   "codemirror_mode": {
    "name": "ipython",
    "version": 3
   },
   "file_extension": ".py",
   "mimetype": "text/x-python",
   "name": "python",
   "nbconvert_exporter": "python",
   "pygments_lexer": "ipython3",
   "version": "3.7.4"
  }
 },
 "nbformat": 4,
 "nbformat_minor": 4
}
