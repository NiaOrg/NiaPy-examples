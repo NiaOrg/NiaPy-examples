{
 "cells": [
  {
   "cell_type": "code",
   "execution_count": null,
   "metadata": {
    "collapsed": false,
    "jupyter": {
     "outputs_hidden": false
    }
   },
   "outputs": [],
   "source": [
    "from typing import Union, Optional\n",
    "import numpy as np\n",
    "import pandas as pd\n",
    "from sklearn import datasets\n",
    "%matplotlib widget\n",
    "import matplotlib as mpl\n",
    "import matplotlib.pyplot as plt\n",
    "from jupyterthemes import jtplot\n",
    "import seaborn as sns\n",
    "from sklearn.preprocessing import LabelEncoder\n",
    "from NiaPy.util import groupdatabylabel\n",
    "# Dodatne opcije\n",
    "jtplot.style()\n",
    "# sns.set_style(\"whitegrid\"), sns.set_context(\"talk\")\n",
    "pd.set_option('display.max_columns', None)"
   ]
  },
  {
   "cell_type": "code",
   "execution_count": null,
   "metadata": {},
   "outputs": [],
   "source": [
    "def getdims(d: Union[np.ndarray, list], n: int = 0) -> None:\n",
    "   for i, e in enumerate(d):\n",
    "      if isinstance(e, (list, np.ndarray)): print ('%d:%d -> %d' % (n, i, len(e)))\n",
    "      else: continue\n",
    "      if isinstance(e[0], (list, np.ndarray)) and isinstance(e[0][0], (list, np.ndarray)): getdims(e, n + 1)\n",
    "\t\t \n",
    "def mplot(data: pd.DataFrame, clabel: str, ax: Optional[mpl.axes.Axes] = None) -> None:\n",
    "   d = pd.melt(data, clabel, var_name=\"measurement\")\n",
    "   if ax is None: f, ax = plt.subplots()\n",
    "   sns.despine(bottom=True, left=True)\n",
    "   sns.stripplot(x=\"value\", y=\"measurement\", hue=clabel, data=d, dodge=True, jitter=True, alpha=.25, zorder=1)\n",
    "   sns.pointplot(x=\"value\", y=\"measurement\", hue=clabel, data=d, dodge=.532, join=False, palette=\"dark\", markers=\"d\", scale=.75, ci=None)\n",
    "   handles, labels = ax.get_legend_handles_labels()\n",
    "   noc = len(data[clabel].unique())\n",
    "   ax.legend(handles[noc:], labels[noc:], title=clabel, handletextpad=0, columnspacing=1, loc=\"lower right\", ncol=noc, frameon=True)"
   ]
  },
  {
   "cell_type": "markdown",
   "metadata": {},
   "source": [
    "# Generated Data"
   ]
  },
  {
   "cell_type": "markdown",
   "metadata": {},
   "source": [
    "## Example"
   ]
  },
  {
   "cell_type": "code",
   "execution_count": null,
   "metadata": {},
   "outputs": [],
   "source": [
    "X, y = datasets.make_blobs()\n",
    "fig, ax = plt.subplots(1, 1, figsize=(6, 5))\n",
    "for e in np.unique(y): ax.scatter(X[np.where(y == e), 0], X[np.where(y == e), 1], label='Class %d' % e)\n",
    "ax.set_xlabel('$a_1$'); ax.set_ylabel('$a_2$')\n",
    "ax.legend()\n",
    "fig.tight_layout()\n",
    "fig.savefig(\"clusterExample.pdf\", bbox_inches='tight')"
   ]
  },
  {
   "cell_type": "code",
   "execution_count": null,
   "metadata": {},
   "outputs": [],
   "source": [
    "gdata = pd.DataFrame(np.hstack((X, y.reshape(len(y), 1))), columns=['a1', 'a2', 'Class'])\n",
    "gdata"
   ]
  },
  {
   "cell_type": "code",
   "execution_count": null,
   "metadata": {},
   "outputs": [],
   "source": [
    "lt = LabelEncoder().fit(y)\n",
    "lt.classes_\n",
    "d = groupdatabylabel(X, y, lt)\n",
    "getdims(d)"
   ]
  },
  {
   "cell_type": "code",
   "execution_count": null,
   "metadata": {},
   "outputs": [],
   "source": [
    "mplot(gdata, 'Class')"
   ]
  },
  {
   "cell_type": "markdown",
   "metadata": {},
   "source": [
    "# The Iris Dataset"
   ]
  },
  {
   "cell_type": "markdown",
   "metadata": {},
   "source": [
    "## Attribute description\n",
    "1. sepal length in cm\n",
    "2. sepal width in cm\n",
    "3. petal length in cm\n",
    "4. petal width in cm\n",
    "5. class:"
   ]
  },
  {
   "cell_type": "markdown",
   "metadata": {},
   "source": [
    "## Class attribute\n",
    "* 0: Iris Setosa\n",
    "* 1: Iris Versicolour\n",
    "* 2: Iris Virginica"
   ]
  },
  {
   "cell_type": "code",
   "execution_count": null,
   "metadata": {},
   "outputs": [],
   "source": [
    "iris = datasets.load_iris()\n",
    "X, y = iris.data, iris.target\n",
    "iris = pd.DataFrame(np.hstack((X, y.reshape(len(y), 1))), columns=['Sepal length', 'Sepal width', 'Petal length', 'Petal width', 'Species'])\n",
    "iris"
   ]
  },
  {
   "cell_type": "code",
   "execution_count": null,
   "metadata": {},
   "outputs": [],
   "source": [
    "with open('irisStat.tex', 'w') as file: file.write(iris.describe().to_latex())\n",
    "iris.describe()"
   ]
  },
  {
   "cell_type": "code",
   "execution_count": null,
   "metadata": {},
   "outputs": [],
   "source": [
    "lt = LabelEncoder().fit(y)\n",
    "lt.classes_"
   ]
  },
  {
   "cell_type": "code",
   "execution_count": null,
   "metadata": {},
   "outputs": [],
   "source": [
    "d = groupdatabylabel(X, y, lt)\n",
    "getdims(d)"
   ]
  },
  {
   "cell_type": "code",
   "execution_count": null,
   "metadata": {},
   "outputs": [],
   "source": [
    "mplot(iris, 'Species')"
   ]
  },
  {
   "cell_type": "markdown",
   "metadata": {
    "toc-hr-collapsed": false
   },
   "source": [
    "# The Cancer Wisconsin Dataset"
   ]
  },
  {
   "cell_type": "markdown",
   "metadata": {},
   "source": [
    "## Attribute information\n",
    "1. ID number\n",
    "2. Diagnosis (M = malignant, B = benign)\n",
    "3. Ten real-valued features are computed for each cell nucleus:\n",
    "  1. radius (mean of distances from center to points on the perimeter)\n",
    "  2. texture (standard deviation of gray-scale values)\n",
    "  3. perimeter\n",
    "  4. area\n",
    "  5. smoothness (local variation in radius lengths)\n",
    "  6. compactness (perimeter^2 / area - 1.0)\n",
    "  7. concavity (severity of concave portions of the contour)\n",
    "  8. concave points (number of concave portions of the contour)\n",
    "  9. symmetry \n",
    "  10. fractal dimension (\"coastline approximation\" - 1)"
   ]
  },
  {
   "cell_type": "markdown",
   "metadata": {},
   "source": [
    "## Class attirbute\n",
    "* 0: No cancer\n",
    "* 1: Cancer"
   ]
  },
  {
   "cell_type": "code",
   "execution_count": null,
   "metadata": {},
   "outputs": [],
   "source": [
    "cwd = datasets.load_breast_cancer()\n",
    "X, y = cwd.data, cwd.target\n",
    "columns = ['radius 1', 'texture 1', 'perimeter 1', 'area 1', 'smoothness 1', 'compactness 1', 'concavity 1', 'concave points 1', 'symmetry 1', 'fractal dimension 1', 'radius 2', 'texture 2', 'perimeter 2', 'area 2', 'smoothness 2', 'compactness 2', 'concavity 2', 'concave points 2', 'symmetry 2', 'fractal dimension 2', 'radius 3', 'texture 3', 'perimeter 3', 'area 3', 'smoothness 3', 'compactness 3', 'concavity 3', 'concave points 3', 'symmetry 3', 'fractal dimension 3', 'Diagnosis']\n",
    "cwd = pd.DataFrame(np.hstack((X, y.reshape(len(y), 1))), columns=columns)\n",
    "cwd"
   ]
  },
  {
   "cell_type": "code",
   "execution_count": null,
   "metadata": {},
   "outputs": [],
   "source": [
    "with open('cancerStat.tex', 'w') as file: file.write(cwd.describe().to_latex())\n",
    "cwd.describe()"
   ]
  },
  {
   "cell_type": "code",
   "execution_count": null,
   "metadata": {},
   "outputs": [],
   "source": [
    "lt = LabelEncoder().fit(y)\n",
    "lt.classes_"
   ]
  },
  {
   "cell_type": "code",
   "execution_count": null,
   "metadata": {},
   "outputs": [],
   "source": [
    "d = groupdatabylabel(X, y, lt)\n",
    "getdims(d)"
   ]
  },
  {
   "cell_type": "code",
   "execution_count": null,
   "metadata": {},
   "outputs": [],
   "source": [
    "mplot(cwd, 'Diagnosis')"
   ]
  },
  {
   "cell_type": "markdown",
   "metadata": {
    "toc-hr-collapsed": false
   },
   "source": [
    "# The Wine Dataset"
   ]
  },
  {
   "cell_type": "markdown",
   "metadata": {},
   "source": [
    "## Attribute description\n",
    "1. Alcohol\n",
    "2. Malic acid\n",
    "3. Ash\n",
    "4. Alcalinity of ash\n",
    "5. Magnesium\n",
    "6. Total phenols\n",
    "7. Flavanoids\n",
    "8. Nonflavanoid phenols\n",
    "9. Proanthocyanins\n",
    "10. Color intensity\n",
    "11. Hue\n",
    "12. OD280/OD315 of diluted wines\n",
    "13. Proline "
   ]
  },
  {
   "cell_type": "markdown",
   "metadata": {},
   "source": [
    "## Class attiribute\n",
    "* 0: TODO\n",
    "* 1: TODO\n",
    "* 2: TODO"
   ]
  },
  {
   "cell_type": "code",
   "execution_count": null,
   "metadata": {},
   "outputs": [],
   "source": [
    "wine = datasets.load_wine()\n",
    "X, y = wine.data, wine.target\n",
    "wine = pd.DataFrame(np.hstack((X, y.reshape(len(y), 1))), columns=['Alcohol', 'Malic acid', 'Ash', 'Alcalinity of ash', 'Magnesium', 'Total phenols', 'Flavanoids', 'Nonflavanoid phenols', 'Proanthocyanins', 'Color intensity', 'Hue', 'OD280/OD315 of diluted wines', 'Proline', 'Class'])\n",
    "wine"
   ]
  },
  {
   "cell_type": "code",
   "execution_count": null,
   "metadata": {},
   "outputs": [],
   "source": [
    "with open('wineStat.tex', 'w') as file: file.write(wine.describe().to_latex())\n",
    "wine.describe()"
   ]
  },
  {
   "cell_type": "code",
   "execution_count": null,
   "metadata": {},
   "outputs": [],
   "source": [
    "lt = LabelEncoder().fit(y)\n",
    "lt.classes_"
   ]
  },
  {
   "cell_type": "code",
   "execution_count": null,
   "metadata": {},
   "outputs": [],
   "source": [
    "d = groupdatabylabel(X, y, lt)\n",
    "getdims(d)"
   ]
  },
  {
   "cell_type": "code",
   "execution_count": null,
   "metadata": {},
   "outputs": [],
   "source": [
    "mplot(wine, 'Class')"
   ]
  },
  {
   "cell_type": "markdown",
   "metadata": {},
   "source": [
    "# The Glass Dataset"
   ]
  },
  {
   "cell_type": "markdown",
   "metadata": {},
   "source": [
    "## Attribute information\n",
    "1. RI: refractive index\n",
    "2. Na: Sodium (unit measurement: weight percent in corresponding oxide, as are attributes 4-10)\n",
    "3. Mg: Magnesium\n",
    "4. Al: Aluminum\n",
    "5. Si: Silicon\n",
    "6. K: Potassium\n",
    "7. Ca: Calcium\n",
    "8. Ba: Barium\n",
    "9. Fe: Iron\n",
    "10. Type of glass: (class attribute)"
   ]
  },
  {
   "cell_type": "markdown",
   "metadata": {},
   "source": [
    "## Class attribute\n",
    "Type of glass:\n",
    "* 1: building_windows_float_processed\n",
    "* 2: building_windows_non_float_processed\n",
    "* 3: vehicle_windows_float_processed\n",
    "* 4: vehicle_windows_non_float_processed (none in this database)\n",
    "* 5: containers\n",
    "* 6: tableware\n",
    "* 7: headlamps"
   ]
  },
  {
   "cell_type": "code",
   "execution_count": null,
   "metadata": {},
   "outputs": [],
   "source": [
    "glass = pd.read_csv('glass.csv')\n",
    "glass"
   ]
  },
  {
   "cell_type": "code",
   "execution_count": null,
   "metadata": {},
   "outputs": [],
   "source": [
    "with open('glassStat.tex', 'w') as file: file.write(glass.describe().to_latex())\n",
    "glass.describe()"
   ]
  },
  {
   "cell_type": "code",
   "execution_count": null,
   "metadata": {},
   "outputs": [],
   "source": [
    "lt = LabelEncoder().fit(glass.iloc[:, -1].values)\n",
    "lt.classes_"
   ]
  },
  {
   "cell_type": "code",
   "execution_count": null,
   "metadata": {},
   "outputs": [],
   "source": [
    "d = groupdatabylabel(glass.iloc[:, :-1].values, glass.iloc[:, -1].values, lt)\n",
    "getdims(d)"
   ]
  },
  {
   "cell_type": "code",
   "execution_count": null,
   "metadata": {},
   "outputs": [],
   "source": [
    "mplot(glass, 'Type')"
   ]
  },
  {
   "cell_type": "markdown",
   "metadata": {},
   "source": [
    "# The Contraceptive Method Choice Dataset"
   ]
  },
  {
   "cell_type": "markdown",
   "metadata": {},
   "source": [
    "## Attribute information\n",
    "1. Wife's age                     (numerical)\n",
    "2. Wife's education               (categorical)      1=low, 2, 3, 4=high\n",
    "3. Husband's education            (categorical)      1=low, 2, 3, 4=high\n",
    "4. Number of children ever born   (numerical)\n",
    "5. Wife's religion                (binary)           0=Non-Islam, 1=Islam\n",
    "6. Wife's now working?            (binary)           0=Yes, 1=No\n",
    "7. Husband's occupation           (categorical)      1, 2, 3, 4\n",
    "8. Standard-of-living index       (categorical)      1=low, 2, 3, 4=high\n",
    "9. Media exposure                 (binary)           0=Good, 1=Not good\n",
    "10. Contraceptive method used     (class attribute)"
   ]
  },
  {
   "cell_type": "markdown",
   "metadata": {},
   "source": [
    "# Class attribute\n",
    "Contraceptive method used:\n",
    "* 1: No-use\n",
    "* 2: Long-term\n",
    "* 3: Short-term"
   ]
  },
  {
   "cell_type": "code",
   "execution_count": null,
   "metadata": {},
   "outputs": [],
   "source": [
    "cmc = pd.read_csv('cmc.csv')\n",
    "cmc"
   ]
  },
  {
   "cell_type": "code",
   "execution_count": null,
   "metadata": {},
   "outputs": [],
   "source": [
    "with open('cmcStat.tex', 'w') as file: file.write(cmc.describe().to_latex())\n",
    "cmc.describe()"
   ]
  },
  {
   "cell_type": "code",
   "execution_count": null,
   "metadata": {},
   "outputs": [],
   "source": [
    "lt = LabelEncoder().fit(cmc.iloc[:, -1])\n",
    "lt.classes_"
   ]
  },
  {
   "cell_type": "code",
   "execution_count": null,
   "metadata": {},
   "outputs": [],
   "source": [
    "d = groupdatabylabel(cmc.iloc[:, :-1].values, cmc.iloc[:, -1].values, lt)\n",
    "getdims(d)"
   ]
  },
  {
   "cell_type": "code",
   "execution_count": null,
   "metadata": {},
   "outputs": [],
   "source": [
    "mplot(cmc, ' Contraceptive method used')"
   ]
  },
  {
   "cell_type": "markdown",
   "metadata": {},
   "source": [
    "# Covertype dataset"
   ]
  },
  {
   "cell_type": "markdown",
   "metadata": {},
   "source": [
    "## Attribute information\n",
    "1. Elevation / quantitative /meters / Elevation in meters\n",
    "2. Aspect / quantitative / azimuth / Aspect in degrees azimuth\n",
    "3. Slope / quantitative / degrees / Slope in degrees\n",
    "4. Horizontal_Distance_To_Hydrology / quantitative / meters / Horz Dist to nearest surface water features\n",
    "5. Vertical_Distance_To_Hydrology / quantitative / meters / Vert Dist to nearest surface water features\n",
    "6. Horizontal_Distance_To_Roadways / quantitative / meters / Horz Dist to nearest roadway\n",
    "7. Hillshade_9am / quantitative / 0 to 255 index / Hillshade index at 9am, summer solstice\n",
    "8. Hillshade_Noon / quantitative / 0 to 255 index / Hillshade index at noon, summer soltice\n",
    "9. Hillshade_3pm / quantitative / 0 to 255 index / Hillshade index at 3pm, summer solstice\n",
    "10. Horizontal_Distance_To_Fire_Points / quantitative / meters / Horz Dist to nearest wildfire ignition points\n",
    "11. Wilderness_Area (4 binary columns) / qualitative / 0 (absence) or 1 (presence) / Wilderness area designation\n",
    "12. Soil_Type (40 binary columns) / qualitative / 0 (absence) or 1 (presence) / Soil Type designation"
   ]
  },
  {
   "cell_type": "markdown",
   "metadata": {},
   "source": [
    "## Class attribute\n",
    "* Cover_Type (7 types) / integer / 1 to 7 / Forest Cover Type designation"
   ]
  },
  {
   "cell_type": "code",
   "execution_count": null,
   "metadata": {},
   "outputs": [],
   "source": [
    "covtype = datasets.fetch_covtype()\n",
    "X, y = covtype.data, covtype.target\n",
    "covtype = pd.DataFrame(np.hstack((X, y.reshape(len(y), 1))), columns=['Elevation', 'Aspect', 'Slope', 'Horizontal_Distance_To_Hydrology', 'Vertical_Distance_To_Hydrology', 'Horizontal_Distance_To_Roadways', 'Hillshade_9am', 'Hillshade_Noon', 'Hillshade_3pm', 'Horizontal_Distance_To_Fire_Points', 'Wilderness_Area_1', 'Wilderness_Area_2', 'Wilderness_Area_3', 'Wilderness_Area_4', 'Soil_Type_1', 'Soil_Type_2', 'Soil_Type_3', 'Soil_Type_4', 'Soil_Type_5', 'Soil_Type_6', 'Soil_Type_7', 'Soil_Type_8', 'Soil_Type_9', 'Soil_Type_10', 'Soil_Type_11', 'Soil_Type_12', 'Soil_Type_13', 'Soil_Type_14', 'Soil_Type_15', 'Soil_Type_16', 'Soil_Type_17', 'Soil_Type_18', 'Soil_Type_19', 'Soil_Type_20', 'Soil_Type_21', 'Soil_Type_22', 'Soil_Type_23', 'Soil_Type_24', 'Soil_Type_25', 'Soil_Type_26', 'Soil_Type_27', 'Soil_Type_28', 'Soil_Type_29', 'Soil_Type_30', 'Soil_Type_31', 'Soil_Type_32', 'Soil_Type_33', 'Soil_Type_34', 'Soil_Type_35', 'Soil_Type_36', 'Soil_Type_37', 'Soil_Type_38', 'Soil_Type_39', 'Soil_Type_40', 'Cover_Type'])\n",
    "covtype"
   ]
  },
  {
   "cell_type": "code",
   "execution_count": null,
   "metadata": {},
   "outputs": [],
   "source": [
    "with open('covtypeStat.tex', 'w') as file: file.write(covtype.describe().to_latex())\n",
    "covtype.describe()"
   ]
  },
  {
   "cell_type": "code",
   "execution_count": null,
   "metadata": {},
   "outputs": [],
   "source": [
    "lt = LabelEncoder().fit(y)\n",
    "lt.classes_"
   ]
  },
  {
   "cell_type": "code",
   "execution_count": null,
   "metadata": {},
   "outputs": [],
   "source": [
    "d = groupdatabylabel(X, y, lt)\n",
    "getdims(d)"
   ]
  },
  {
   "cell_type": "code",
   "execution_count": null,
   "metadata": {},
   "outputs": [],
   "source": [
    "mplot(covtype, 'Cover_Type')"
   ]
  }
 ],
 "metadata": {
  "kernelspec": {
   "display_name": "Python 3",
   "language": "python",
   "name": "python3"
  },
  "language_info": {
   "codemirror_mode": {
    "name": "ipython",
    "version": 3
   },
   "file_extension": ".py",
   "mimetype": "text/x-python",
   "name": "python",
   "nbconvert_exporter": "python",
   "pygments_lexer": "ipython3",
   "version": "3.7.3"
  }
 },
 "nbformat": 4,
 "nbformat_minor": 4
}
