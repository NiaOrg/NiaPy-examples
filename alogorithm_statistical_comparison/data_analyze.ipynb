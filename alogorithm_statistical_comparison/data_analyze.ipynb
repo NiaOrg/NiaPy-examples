{
 "cells": [
  {
   "cell_type": "code",
   "execution_count": null,
   "metadata": {},
   "outputs": [],
   "source": [
    "import sys\n",
    "from typing import List, Tuple\n",
    "import pandas as pd\n",
    "pd.set_option('display.max_columns', 100)\n",
    "pd.set_option('display.max_rows', 100)\n",
    "import numpy as np\n",
    "np.set_printoptions(threshold=sys.maxsize)\n",
    "%matplotlib widget\n",
    "import matplotlib.pyplot as plt\n",
    "from matplotlib.ticker import (AutoMinorLocator, MultipleLocator)\n",
    "import scipy.stats as stats"
   ]
  },
  {
   "cell_type": "markdown",
   "metadata": {},
   "source": [
    "# Nalaganje podatkov"
   ]
  },
  {
   "cell_type": "code",
   "execution_count": null,
   "metadata": {},
   "outputs": [],
   "source": [
    "pso_df = pd.DataFrame(np.asarray([np.loadtxt('PSO/PSO_%d_10_v' % fnum) - fnum * 100 for fnum in range(1, 31)]).T)\n",
    "mkev3_df = pd.DataFrame(np.asarray([np.loadtxt('MKEv3/MKEv3_%d_10_v' % fnum) - fnum * 100 for fnum in range(1, 31)]).T)\n",
    "nmm_df = pd.DataFrame(np.asarray([np.loadtxt('NMM/NMM_%d_10_v' % fnum) - fnum * 100 for fnum in range(1, 31)]).T)\n",
    "es11_df = pd.DataFrame(np.asarray([np.loadtxt('ES(1+1)/ES(1+1)_%d_10_v' % fnum) - fnum * 100 for fnum in range(1, 31)]).T)\n",
    "de_df = pd.DataFrame(np.asarray([np.loadtxt('DE/DE_%d_10_v' % fnum) - fnum * 100 for fnum in range(1, 31)]).T)\n",
    "jde_df = pd.DataFrame(np.asarray([np.loadtxt('jDE/jDE_%d_10_v' % fnum) - fnum * 100 for fnum in range(1, 31)]).T)\n",
    "aco_df = pd.DataFrame(np.asarray([np.loadtxt('ACO/ACO_%d_10_v' % fnum) - fnum * 100 for fnum in range(1, 31)]).T)\n",
    "cso_df = pd.DataFrame(np.asarray([np.loadtxt('CSO/CSO_%d_10_v' % fnum) - fnum * 100 for fnum in range(1, 31)]).T)"
   ]
  },
  {
   "cell_type": "markdown",
   "metadata": {},
   "source": [
    "# Predalava podtkov"
   ]
  },
  {
   "cell_type": "markdown",
   "metadata": {},
   "source": [
    "## Uporaba povprečja"
   ]
  },
  {
   "cell_type": "code",
   "execution_count": null,
   "metadata": {},
   "outputs": [],
   "source": [
    "de_data = de_df.describe().iloc[1, :].values.flatten()\n",
    "jde_data = jde_df.describe().iloc[1, :].values.flatten()\n",
    "pso_data = pso_df.describe().iloc[1, :].values.flatten()\n",
    "mkev3_data = mkev3_df.describe().iloc[1, :].values.flatten()\n",
    "nmm_data = nmm_df.describe().iloc[1, :].values.flatten()\n",
    "es11_data = es11_df.describe().iloc[1, :].values.flatten()\n",
    "aco_data = aco_df.describe().iloc[1, :].values.flatten()\n",
    "cso_data = cso_df.describe().iloc[1, :].values.flatten()"
   ]
  },
  {
   "cell_type": "markdown",
   "metadata": {},
   "source": [
    "## Uporaba mediane"
   ]
  },
  {
   "cell_type": "code",
   "execution_count": null,
   "metadata": {},
   "outputs": [],
   "source": [
    "de_data = de_df.describe().iloc[5, :].values.flatten()\n",
    "jde_data = jde_df.describe().iloc[5, :].values.flatten()\n",
    "pso_data = pso_df.describe().iloc[5, :].values.flatten()\n",
    "mkev3_data = mkev3_df.describe().iloc[5, :].values.flatten()\n",
    "nmm_data = nmm_df.describe().iloc[5, :].values.flatten()\n",
    "es11_data = es11_df.describe().iloc[5, :].values.flatten()\n",
    "aco_data = aco_df.describe().iloc[5, :].values.flatten()\n",
    "cso_data = cso_df.describe().iloc[5, :].values.flatten()"
   ]
  },
  {
   "cell_type": "markdown",
   "metadata": {},
   "source": [
    "## Uporaba vseh podatkov"
   ]
  },
  {
   "cell_type": "code",
   "execution_count": null,
   "metadata": {},
   "outputs": [],
   "source": [
    "de_data = de_df.values.T.flatten()\n",
    "jde_data = jde_df.values.T.flatten()\n",
    "pso_data = pso_df.values.T.flatten()\n",
    "mkev3_data = mkev3_df.values.T.flatten()\n",
    "nmm_data = nmm_df.values.T.flatten()\n",
    "es11_data = es11_df.values.T.flatten()\n",
    "aco_data = aco_df.values.T.flatten()\n",
    "cso_data = cso_df.values.T.flatten()"
   ]
  },
  {
   "cell_type": "markdown",
   "metadata": {},
   "source": [
    "## Uporaba mediane, povprečja, standardnega odklona, maksimalne in minimalne vrednosti"
   ]
  },
  {
   "cell_type": "code",
   "execution_count": null,
   "metadata": {},
   "outputs": [],
   "source": [
    "de_data = de_df.describe().iloc[[1, 2, 3, 5, 7], :].T.values.flatten()\n",
    "jde_data = jde_df.describe().iloc[[1, 2, 3, 5, 7], :].T.values.flatten()\n",
    "pso_data = pso_df.describe().iloc[[1, 2, 3, 5, 7], :].T.values.flatten()\n",
    "mkev3_data = mkev3_df.describe().iloc[[1, 2, 3, 5, 7], :].T.values.flatten()\n",
    "nmm_data = nmm_df.describe().iloc[[1, 2, 3, 5, 7], :].T.values.flatten()\n",
    "es11_data = es11_df.describe().iloc[[1, 2, 3, 5, 7], :].T.values.flatten()\n",
    "aco_data = aco_df.describe().iloc[[1, 2, 3, 5, 7], :].T.values.flatten()\n",
    "cso_data = cso_df.describe().iloc[[1, 2, 3, 5, 7], :].T.values.flatten()"
   ]
  },
  {
   "cell_type": "markdown",
   "metadata": {},
   "source": [
    "## Končan priprava podatkov"
   ]
  },
  {
   "cell_type": "code",
   "execution_count": null,
   "metadata": {},
   "outputs": [],
   "source": [
    "# algs_data = [de_data, jde_data, pso_data, mkev3_data, nmm_data, es11_data, aco_data, cso_data]\n",
    "# algs_labels = ['DE', 'jDE', 'PSO', 'MKEv3', 'NMM', 'ES(1+1)', 'ACO', 'CSO']\n",
    "algs_data = [pso_data, mkev3_data, nmm_data, es11_data, aco_data, cso_data]\n",
    "algs_labels = ['PSO', 'MKEv3', 'NMM', 'ES(1+1)', 'ACO', 'CSO']"
   ]
  },
  {
   "cell_type": "markdown",
   "metadata": {},
   "source": [
    "# Statistični testi"
   ]
  },
  {
   "cell_type": "markdown",
   "metadata": {},
   "source": [
    "## Friedman test"
   ]
  },
  {
   "cell_type": "markdown",
   "metadata": {},
   "source": [
    "### Kriticne razdalje za friedman test\n",
    "$$\n",
    "CD = q_{\\alpha} \\sqrt{\\frac{k(k + 1)}{6N}}\n",
    "$$\n",
    ", kjer:\n",
    "* $k \\mapsto$ Stevilo algoritmov\n",
    "* $N \\mapsto$ Stevilo problemov\n",
    "* $q_{\\alpha} \\mapsto$ Kriticna vrednost"
   ]
  },
  {
   "cell_type": "code",
   "execution_count": null,
   "metadata": {},
   "outputs": [],
   "source": [
    "def wilcoxonSignedRanks(a:np.ndarray, b:np.ndarray) -> Tuple[float, float, float]:\n",
    "   r\"\"\"Get rank values from signed wilcoxon test.\n",
    "   \n",
    "   Args:\n",
    "\t  a: First data.\n",
    "\t  b: Second data.\n",
    "\t  \n",
    "   Returns:\n",
    "\t  1. Positive ranks.\n",
    "\t  2. Negative ranks.\n",
    "\t  3. T value\n",
    "   \"\"\"\n",
    "   y = a - b\n",
    "   y_diff = y[y != 0]\n",
    "   r = stats.rankdata(np.abs(y_diff))\n",
    "   r_all = np.sum(r) / 2\n",
    "   r_p, r_n = r_all + np.sum(r[np.where(y_diff > 0)]) , r_all + np.sum(r[np.where(y_diff < 0)])\n",
    "   return r_p, r_n, np.min([r_p, r_n])\n",
    "\n",
    "def friedmanRanks(*arrs:List[np.ndarray]) -> np.array:\n",
    "   r = np.asarray([stats.rankdata([arrs[j][i] for j in range(len(arrs))]) for i in range(len(arrs[0]))])\n",
    "   return np.asarray([np.sum(r[:, i]) / len(arrs[0]) for i in range(len(arrs))])\n",
    "\n",
    "def cd(alpha:float, k:float, n:float) -> float:\n",
    "   r\"\"\"Get critial distance for friedman test.\n",
    "   \n",
    "   Args:\n",
    "      alpha: Fold value.\n",
    "      k: Number of algorithms.\n",
    "      n: Number of algorithm results.\n",
    "   \"\"\"\n",
    "   nemenyi_df = pd.read_csv('nemenyi.csv')\n",
    "   q_a = nemenyi_df['%.2f' % alpha][nemenyi_df['k'] == k].values\n",
    "   return q_a[0] * np.sqrt((k * (k + 1)) / (6 * n))"
   ]
  },
  {
   "cell_type": "code",
   "execution_count": null,
   "metadata": {},
   "outputs": [],
   "source": [
    "cd_h = cd(0.01, len(algs_data), len(algs_data[0])) / 2.0\n",
    "r = friedmanRanks(*algs_data)\n",
    "f, a = plt.subplots(figsize=(6, 4))\n",
    "a.boxplot([(e - cd_h, e, e + cd_h) for e in r], labels=algs_labels, widths=.15)\n",
    "a.xaxis.set_minor_locator(AutoMinorLocator(7)); a.yaxis.set_minor_locator(AutoMinorLocator(7))\n",
    "a.grid(which='both'); a.grid(which='minor', alpha=0.2, linestyle=':'); a.grid(which='major', alpha=0.5, linestyle='--')\n",
    "a.set_ylabel('Average rank'); a.set_xlabel('Algorithm')\n",
    "f.tight_layout()"
   ]
  },
  {
   "cell_type": "code",
   "execution_count": null,
   "metadata": {},
   "outputs": [],
   "source": [
    "pw_data = pd.DataFrame(np.asarray([[stats.wilcoxon(algs_data[j], algs_data[i])[1] if j != i else 1 for i in range(len(algs_data))] for j in range(len(algs_data))]), index=algs_labels, columns=algs_labels)\n",
    "pw_data"
   ]
  },
  {
   "cell_type": "code",
   "execution_count": null,
   "metadata": {},
   "outputs": [],
   "source": [
    "pw_data.to_csv('res_data.csv')"
   ]
  }
 ],
 "metadata": {
  "kernelspec": {
   "display_name": "Python 3",
   "language": "python",
   "name": "python3"
  },
  "language_info": {
   "codemirror_mode": {
    "name": "ipython",
    "version": 3
   },
   "file_extension": ".py",
   "mimetype": "text/x-python",
   "name": "python",
   "nbconvert_exporter": "python",
   "pygments_lexer": "ipython3",
   "version": "3.7.3"
  }
 },
 "nbformat": 4,
 "nbformat_minor": 2
}
